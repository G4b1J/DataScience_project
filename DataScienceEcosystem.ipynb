{
 "cells": [
  {
   "cell_type": "markdown",
   "id": "ec6290f2-c3c0-47ab-8033-4d9f0e410a4b",
   "metadata": {},
   "source": [
    "# Data Science Tools and Ecosystem"
   ]
  },
  {
   "cell_type": "markdown",
   "id": "e17b7a34-2c06-4f79-919b-d40d591d2fa1",
   "metadata": {},
   "source": [
    "In this notebook, Data Science Tools and Ecosystem are summarized."
   ]
  },
  {
   "cell_type": "markdown",
   "id": "12131d4f-39d0-4ce1-8bb0-ef4c806aa6a0",
   "metadata": {},
   "source": [
    "Some of the popular languages that Data Scientists use are:\n",
    "1. Python\n",
    "2. SQL\n",
    "3. R"
   ]
  },
  {
   "cell_type": "markdown",
   "id": "3b173452-b40c-4bba-ac35-f297437215c3",
   "metadata": {},
   "source": [
    "Some of the commonly used libraries used by Data Scientists include:\n",
    "1. NumPy\n",
    "2. Pandas\n",
    "3. Scikit-Learn"
   ]
  },
  {
   "cell_type": "markdown",
   "id": "db403b75-bdf5-4c18-8a0e-4ffe979efce1",
   "metadata": {},
   "source": [
    "|Data Science Tools       |\n",
    "|--------------------------|\n",
    "|Jupyter Notebook         |\n",
    "|RStudio                  |\n",
    "|Visual Studio Code (VS Code) |"
   ]
  },
  {
   "cell_type": "markdown",
   "id": "37674d8e-c9a4-4734-8e87-b25e12c58e66",
   "metadata": {},
   "source": [
    "### Below are a few examples of evaluating arithmetic expressions in Python"
   ]
  },
  {
   "cell_type": "code",
   "execution_count": 1,
   "id": "dab428f2-f0b0-4bf5-b5c5-1cf2d0595a85",
   "metadata": {},
   "outputs": [
    {
     "data": {
      "text/plain": [
       "17"
      ]
     },
     "execution_count": 1,
     "metadata": {},
     "output_type": "execute_result"
    }
   ],
   "source": [
    "# This a simple arithmetic expression to mutiply then add integers\n",
    "(3*4)+5"
   ]
  },
  {
   "cell_type": "code",
   "execution_count": 2,
   "id": "7ad3ac20-45be-4ef1-939e-75d7dfa7ee34",
   "metadata": {},
   "outputs": [
    {
     "data": {
      "text/plain": [
       "3.3333333333333335"
      ]
     },
     "execution_count": 2,
     "metadata": {},
     "output_type": "execute_result"
    }
   ],
   "source": [
    "# This will convert 200 minutes to hours by dividing by 60\n",
    "hours = 200 / 60\n",
    "hours"
   ]
  },
  {
   "cell_type": "markdown",
   "id": "75663556-133f-4cff-878a-41b583268d9f",
   "metadata": {},
   "source": [
    "__Objectives:__\n",
    "- List popular languages for Data Science.\n",
    "- Explore open-source tools used in Data Science.\n",
    "- Learn how to create and share Jupyter Notebooks."
   ]
  },
  {
   "cell_type": "markdown",
   "id": "9ffcb520-2ca9-409f-969d-fa816844fdc4",
   "metadata": {},
   "source": [
    "## Author\n",
    "Gabriele"
   ]
  },
  {
   "cell_type": "code",
   "execution_count": null,
   "id": "918640c3-0143-496d-ae79-0209fb95855e",
   "metadata": {},
   "outputs": [],
   "source": []
  }
 ],
 "metadata": {
  "kernelspec": {
   "display_name": "Python 3 (ipykernel)",
   "language": "python",
   "name": "python3"
  },
  "language_info": {
   "codemirror_mode": {
    "name": "ipython",
    "version": 3
   },
   "file_extension": ".py",
   "mimetype": "text/x-python",
   "name": "python",
   "nbconvert_exporter": "python",
   "pygments_lexer": "ipython3",
   "version": "3.12.8"
  }
 },
 "nbformat": 4,
 "nbformat_minor": 5
}
